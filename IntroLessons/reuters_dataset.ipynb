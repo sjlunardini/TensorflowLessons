{
 "cells": [
  {
   "cell_type": "code",
   "execution_count": 3,
   "metadata": {},
   "outputs": [],
   "source": [
    "\"\"\"Library and Data Imports\"\"\"\n",
    "import tensorflow as tf\n",
    "CUDA_VISIBLE_DEVICES=\"\"\n",
    "import numpy as np\n",
    "import matplotlib.pyplot as plt\n",
    "from tensorflow.keras.datasets import reuters\n",
    "from tensorflow.keras import models\n",
    "from tensorflow.keras import layers\n",
    "from tensorflow.keras import optimizers\n",
    "from tensorflow.keras import losses\n",
    "from tensorflow.keras import metrics\n",
    "from tensorflow.keras.utils import to_categorical\n",
    "\n",
    "(train_data, train_labels), (test_data, test_labels) = reuters.load_data(num_words=10000)"
   ]
  },
  {
   "cell_type": "code",
   "execution_count": 4,
   "metadata": {},
   "outputs": [],
   "source": [
    "\"\"\"One hot encode the sequences\"\"\"\n",
    "\n",
    "def vectorize_sequences(sequences,dimension=10000):\n",
    "    results = np.zeros((len(sequences),dimension))\n",
    "    for i, sequence in enumerate(sequences):\n",
    "        results[i,sequence]=1\n",
    "    return results\n",
    "\n",
    "\n",
    "x_train = vectorize_sequences(train_data)\n",
    "x_test = vectorize_sequences(test_data)\n",
    "\n",
    "one_hot_train_labels = to_categorical(train_labels)\n",
    "one_hot_test_labels = to_categorical(test_labels)\n",
    "\n",
    "# Split into Test/Train\n",
    "\n",
    "x_val = x_train[:1000]\n",
    "partial_x_train = x_train[1000:]\n",
    "y_val = one_hot_train_labels[:1000]\n",
    "partial_y_train = one_hot_train_labels[1000:]\n",
    "\n",
    "\n",
    "    \n",
    "    "
   ]
  },
  {
   "cell_type": "code",
   "execution_count": 5,
   "metadata": {},
   "outputs": [
    {
     "name": "stderr",
     "output_type": "stream",
     "text": [
      "2022-08-24 11:27:00.548935: I tensorflow/stream_executor/cuda/cuda_gpu_executor.cc:961] could not open file to read NUMA node: /sys/bus/pci/devices/0000:01:00.0/numa_node\n",
      "Your kernel may have been built without NUMA support.\n",
      "2022-08-24 11:27:00.549027: W tensorflow/stream_executor/platform/default/dso_loader.cc:64] Could not load dynamic library 'libcudart.so.11.0'; dlerror: libcudart.so.11.0: cannot open shared object file: No such file or directory\n",
      "2022-08-24 11:27:00.549067: W tensorflow/stream_executor/platform/default/dso_loader.cc:64] Could not load dynamic library 'libcublas.so.11'; dlerror: libcublas.so.11: cannot open shared object file: No such file or directory\n",
      "2022-08-24 11:27:00.549105: W tensorflow/stream_executor/platform/default/dso_loader.cc:64] Could not load dynamic library 'libcublasLt.so.11'; dlerror: libcublasLt.so.11: cannot open shared object file: No such file or directory\n",
      "2022-08-24 11:27:00.549141: W tensorflow/stream_executor/platform/default/dso_loader.cc:64] Could not load dynamic library 'libcufft.so.10'; dlerror: libcufft.so.10: cannot open shared object file: No such file or directory\n",
      "2022-08-24 11:27:00.549177: W tensorflow/stream_executor/platform/default/dso_loader.cc:64] Could not load dynamic library 'libcurand.so.10'; dlerror: libcurand.so.10: cannot open shared object file: No such file or directory\n",
      "2022-08-24 11:27:00.549214: W tensorflow/stream_executor/platform/default/dso_loader.cc:64] Could not load dynamic library 'libcusolver.so.11'; dlerror: libcusolver.so.11: cannot open shared object file: No such file or directory\n",
      "2022-08-24 11:27:00.549250: W tensorflow/stream_executor/platform/default/dso_loader.cc:64] Could not load dynamic library 'libcusparse.so.11'; dlerror: libcusparse.so.11: cannot open shared object file: No such file or directory\n",
      "2022-08-24 11:27:00.549286: W tensorflow/stream_executor/platform/default/dso_loader.cc:64] Could not load dynamic library 'libcudnn.so.8'; dlerror: libcudnn.so.8: cannot open shared object file: No such file or directory\n",
      "2022-08-24 11:27:00.549293: W tensorflow/core/common_runtime/gpu/gpu_device.cc:1850] Cannot dlopen some GPU libraries. Please make sure the missing libraries mentioned above are installed properly if you would like to use GPU. Follow the guide at https://www.tensorflow.org/install/gpu for how to download and setup the required libraries for your platform.\n",
      "Skipping registering GPU devices...\n",
      "2022-08-24 11:27:00.550353: I tensorflow/core/platform/cpu_feature_guard.cc:193] This TensorFlow binary is optimized with oneAPI Deep Neural Network Library (oneDNN) to use the following CPU instructions in performance-critical operations:  AVX2 FMA\n",
      "To enable them in other operations, rebuild TensorFlow with the appropriate compiler flags.\n"
     ]
    }
   ],
   "source": [
    "\"\"\"Building the Network\"\"\"\n",
    "model = models.Sequential()\n",
    "model.add(layers.Dense(64, activation='relu', input_shape=(10000,)))\n",
    "model.add(layers.Dense(64, activation='relu'))\n",
    "model.add(layers.Dense(46, activation='softmax'))\n",
    "model.compile(optimizer='rmsprop',\n",
    "    loss='categorical_crossentropy',\n",
    "    metrics=['accuracy'])"
   ]
  },
  {
   "cell_type": "code",
   "execution_count": 6,
   "metadata": {},
   "outputs": [
    {
     "name": "stdout",
     "output_type": "stream",
     "text": [
      "Epoch 1/20\n",
      "16/16 [==============================] - 1s 20ms/step - loss: 2.5913 - accuracy: 0.5435 - val_loss: 1.6853 - val_accuracy: 0.6590\n",
      "Epoch 2/20\n",
      "16/16 [==============================] - 0s 12ms/step - loss: 1.3664 - accuracy: 0.7182 - val_loss: 1.2727 - val_accuracy: 0.7170\n",
      "Epoch 3/20\n",
      "16/16 [==============================] - 0s 11ms/step - loss: 1.0197 - accuracy: 0.7815 - val_loss: 1.1133 - val_accuracy: 0.7640\n",
      "Epoch 4/20\n",
      "16/16 [==============================] - 0s 11ms/step - loss: 0.8019 - accuracy: 0.8286 - val_loss: 1.0215 - val_accuracy: 0.7820\n",
      "Epoch 5/20\n",
      "16/16 [==============================] - 0s 11ms/step - loss: 0.6438 - accuracy: 0.8627 - val_loss: 0.9654 - val_accuracy: 0.7900\n",
      "Epoch 6/20\n",
      "16/16 [==============================] - 0s 11ms/step - loss: 0.5192 - accuracy: 0.8903 - val_loss: 0.9123 - val_accuracy: 0.8040\n",
      "Epoch 7/20\n",
      "16/16 [==============================] - 0s 10ms/step - loss: 0.4250 - accuracy: 0.9079 - val_loss: 0.9040 - val_accuracy: 0.8110\n",
      "Epoch 8/20\n",
      "16/16 [==============================] - 0s 11ms/step - loss: 0.3450 - accuracy: 0.9263 - val_loss: 0.9043 - val_accuracy: 0.8060\n",
      "Epoch 9/20\n",
      "16/16 [==============================] - 0s 11ms/step - loss: 0.2914 - accuracy: 0.9345 - val_loss: 0.8919 - val_accuracy: 0.8210\n",
      "Epoch 10/20\n",
      "16/16 [==============================] - 0s 10ms/step - loss: 0.2464 - accuracy: 0.9431 - val_loss: 0.9099 - val_accuracy: 0.8150\n",
      "Epoch 11/20\n",
      "16/16 [==============================] - 0s 11ms/step - loss: 0.2112 - accuracy: 0.9484 - val_loss: 0.9176 - val_accuracy: 0.8150\n",
      "Epoch 12/20\n",
      "16/16 [==============================] - 0s 11ms/step - loss: 0.1862 - accuracy: 0.9496 - val_loss: 0.9218 - val_accuracy: 0.8220\n",
      "Epoch 13/20\n",
      "16/16 [==============================] - 0s 11ms/step - loss: 0.1677 - accuracy: 0.9528 - val_loss: 0.9395 - val_accuracy: 0.8140\n",
      "Epoch 14/20\n",
      "16/16 [==============================] - 0s 11ms/step - loss: 0.1529 - accuracy: 0.9536 - val_loss: 1.0063 - val_accuracy: 0.8040\n",
      "Epoch 15/20\n",
      "16/16 [==============================] - 0s 11ms/step - loss: 0.1386 - accuracy: 0.9553 - val_loss: 0.9949 - val_accuracy: 0.8140\n",
      "Epoch 16/20\n",
      "16/16 [==============================] - 0s 10ms/step - loss: 0.1333 - accuracy: 0.9554 - val_loss: 0.9930 - val_accuracy: 0.8050\n",
      "Epoch 17/20\n",
      "16/16 [==============================] - 0s 11ms/step - loss: 0.1241 - accuracy: 0.9582 - val_loss: 1.0909 - val_accuracy: 0.7910\n",
      "Epoch 18/20\n",
      "16/16 [==============================] - 0s 11ms/step - loss: 0.1209 - accuracy: 0.9569 - val_loss: 1.0617 - val_accuracy: 0.7990\n",
      "Epoch 19/20\n",
      "16/16 [==============================] - 0s 11ms/step - loss: 0.1181 - accuracy: 0.9573 - val_loss: 1.0792 - val_accuracy: 0.7990\n",
      "Epoch 20/20\n",
      "16/16 [==============================] - 0s 11ms/step - loss: 0.1146 - accuracy: 0.9578 - val_loss: 1.0886 - val_accuracy: 0.8010\n"
     ]
    }
   ],
   "source": [
    "\"\"\"Training the Model\"\"\"\n",
    "history = model.fit(partial_x_train,\n",
    "partial_y_train,\n",
    "epochs=20,\n",
    "batch_size=512,\n",
    "validation_data=(x_val, y_val))\n"
   ]
  },
  {
   "cell_type": "code",
   "execution_count": 7,
   "metadata": {},
   "outputs": [
    {
     "data": {
      "image/png": "[encoded data removed]",
      "text/plain": [
       "<Figure size 640x480 with 1 Axes>"
      ]
     },
     "metadata": {},
     "output_type": "display_data"
    }
   ],
   "source": [
    "\"\"\"Plotting Results\"\"\"\n",
    "loss = history.history['loss']\n",
    "val_loss = history.history['val_loss']\n",
    "epochs = range(1, len(loss) + 1)\n",
    "plt.plot(epochs, loss, 'bo', label='Training loss')\n",
    "plt.plot(epochs, val_loss, 'b', label='Validation loss')\n",
    "plt.title('Training and validation loss')\n",
    "plt.xlabel('Epochs')\n",
    "plt.ylabel('Loss')\n",
    "plt.legend()\n",
    "plt.show()"
   ]
  },
  {
   "cell_type": "code",
   "execution_count": 9,
   "metadata": {},
   "outputs": [
    {
     "name": "stdout",
     "output_type": "stream",
     "text": [
      "Epoch 1/9\n",
      "16/16 [==============================] - 1s 17ms/step - loss: 2.6521 - accuracy: 0.5355 - val_loss: 1.7597 - val_accuracy: 0.6560\n",
      "Epoch 2/9\n",
      "16/16 [==============================] - 0s 12ms/step - loss: 1.4129 - accuracy: 0.7061 - val_loss: 1.3006 - val_accuracy: 0.7110\n",
      "Epoch 3/9\n",
      "16/16 [==============================] - 0s 11ms/step - loss: 1.0337 - accuracy: 0.7806 - val_loss: 1.1233 - val_accuracy: 0.7550\n",
      "Epoch 4/9\n",
      "16/16 [==============================] - 0s 11ms/step - loss: 0.8077 - accuracy: 0.8321 - val_loss: 1.0123 - val_accuracy: 0.7980\n",
      "Epoch 5/9\n",
      "16/16 [==============================] - 0s 11ms/step - loss: 0.6382 - accuracy: 0.8673 - val_loss: 0.9535 - val_accuracy: 0.8050\n",
      "Epoch 6/9\n",
      "16/16 [==============================] - 0s 11ms/step - loss: 0.5160 - accuracy: 0.8925 - val_loss: 0.9207 - val_accuracy: 0.8070\n",
      "Epoch 7/9\n",
      "16/16 [==============================] - 0s 11ms/step - loss: 0.4109 - accuracy: 0.9122 - val_loss: 0.8961 - val_accuracy: 0.8130\n",
      "Epoch 8/9\n",
      "16/16 [==============================] - 0s 11ms/step - loss: 0.3350 - accuracy: 0.9287 - val_loss: 0.9089 - val_accuracy: 0.8110\n",
      "Epoch 9/9\n",
      "16/16 [==============================] - 0s 10ms/step - loss: 0.2778 - accuracy: 0.9382 - val_loss: 0.9068 - val_accuracy: 0.8110\n",
      "71/71 [==============================] - 0s 2ms/step - loss: 1.0046 - accuracy: 0.7814\n"
     ]
    },
    {
     "data": {
      "text/plain": [
       "[1.0046318769454956, 0.7813891172409058]"
      ]
     },
     "execution_count": 9,
     "metadata": {},
     "output_type": "execute_result"
    }
   ],
   "source": [
    "\"\"\"Rebuilding model to prevent overfitting at 9 Epochs\"\"\"\n",
    "model = models.Sequential()\n",
    "model.add(layers.Dense(64, activation='relu', input_shape=(10000,)))\n",
    "model.add(layers.Dense(64, activation='relu'))\n",
    "model.add(layers.Dense(46, activation='softmax'))\n",
    "model.compile(optimizer='rmsprop',\n",
    "    loss='categorical_crossentropy',\n",
    "    metrics=['accuracy'])\n",
    "model.fit(partial_x_train,\n",
    "    partial_y_train,\n",
    "    epochs=9,\n",
    "    batch_size=512,\n",
    "    validation_data=(x_val, y_val))\n",
    "results = model.evaluate(x_test, one_hot_test_labels)\n",
    "results"
   ]
  },
  {
   "cell_type": "code",
   "execution_count": 17,
   "metadata": {},
   "outputs": [
    {
     "name": "stdout",
     "output_type": "stream",
     "text": [
      "71/71 [==============================] - 0s 1ms/step\n",
      "[3 1 1 ... 3 4 1]\n"
     ]
    }
   ],
   "source": [
    "\"\"\"Predict Test\"\"\"\n",
    "predictions = model.predict(x_test)\n",
    "predicted = predictions.argmax(axis=1)\n",
    "print(predicted)"
   ]
  },
  {
   "cell_type": "code",
   "execution_count": 18,
   "metadata": {},
   "outputs": [],
   "source": [
    "\"\"\"Confusion Matrix\"\"\"\n",
    "from sklearn import metrics\n",
    "\n",
    "confusion_matrix = metrics.confusion_matrix(test_labels, predicted)\n",
    "\n"
   ]
  }
 ],
 "metadata": {
  "kernelspec": {
   "display_name": "Python 3.8.10 64-bit",
   "language": "python",
   "name": "python3"
  },
  "language_info": {
   "codemirror_mode": {
    "name": "ipython",
    "version": 3
   },
   "file_extension": ".py",
   "mimetype": "text/x-python",
   "name": "python",
   "nbconvert_exporter": "python",
   "pygments_lexer": "ipython3",
   "version": "3.8.10"
  },
  "orig_nbformat": 4,
  "vscode": {
   "interpreter": {
    "hash": "e97257b71f4c20f1975628c3564088e4f12d542fd0d137090d487067f05e6d7c"
   }
  }
 },
 "nbformat": 4,
 "nbformat_minor": 2
}
